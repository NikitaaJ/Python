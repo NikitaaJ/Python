{
 "cells": [
  {
   "cell_type": "code",
   "execution_count": 1,
   "id": "61217d1c-cee4-4a09-9583-0f448df5e198",
   "metadata": {
    "tags": []
   },
   "outputs": [],
   "source": [
    "import pandas as pd\n",
    "import numpy as np\n",
    "import matplotlib.pyplot as ply"
   ]
  },
  {
   "cell_type": "code",
   "execution_count": null,
   "id": "94901339",
   "metadata": {},
   "outputs": [],
   "source": []
  },
  {
   "cell_type": "code",
   "execution_count": 24,
   "id": "9f28b6be-738c-4171-b940-817922558bc8",
   "metadata": {
    "tags": []
   },
   "outputs": [],
   "source": [
    "data = pd.read_csv('CarPrice.csv')"
   ]
  },
  {
   "cell_type": "code",
   "execution_count": 25,
   "id": "97e7e484-6d36-4535-83d1-2094139e10af",
   "metadata": {
    "tags": []
   },
   "outputs": [
    {
     "data": {
      "text/html": [
       "<div>\n",
       "<style scoped>\n",
       "    .dataframe tbody tr th:only-of-type {\n",
       "        vertical-align: middle;\n",
       "    }\n",
       "\n",
       "    .dataframe tbody tr th {\n",
       "        vertical-align: top;\n",
       "    }\n",
       "\n",
       "    .dataframe thead th {\n",
       "        text-align: right;\n",
       "    }\n",
       "</style>\n",
       "<table border=\"1\" class=\"dataframe\">\n",
       "  <thead>\n",
       "    <tr style=\"text-align: right;\">\n",
       "      <th></th>\n",
       "      <th>car_ID</th>\n",
       "      <th>symboling</th>\n",
       "      <th>wheelbase</th>\n",
       "      <th>carlength</th>\n",
       "      <th>carwidth</th>\n",
       "      <th>carheight</th>\n",
       "      <th>curbweight</th>\n",
       "      <th>enginesize</th>\n",
       "      <th>boreratio</th>\n",
       "      <th>stroke</th>\n",
       "      <th>compressionratio</th>\n",
       "      <th>horsepower</th>\n",
       "      <th>peakrpm</th>\n",
       "      <th>citympg</th>\n",
       "      <th>highwaympg</th>\n",
       "      <th>price</th>\n",
       "    </tr>\n",
       "  </thead>\n",
       "  <tbody>\n",
       "    <tr>\n",
       "      <th>0</th>\n",
       "      <td>1</td>\n",
       "      <td>3</td>\n",
       "      <td>88.6</td>\n",
       "      <td>168.8</td>\n",
       "      <td>64.1</td>\n",
       "      <td>48.8</td>\n",
       "      <td>2548</td>\n",
       "      <td>130</td>\n",
       "      <td>3.47</td>\n",
       "      <td>2.68</td>\n",
       "      <td>9.0</td>\n",
       "      <td>111</td>\n",
       "      <td>5000</td>\n",
       "      <td>21</td>\n",
       "      <td>27</td>\n",
       "      <td>13495.0</td>\n",
       "    </tr>\n",
       "    <tr>\n",
       "      <th>1</th>\n",
       "      <td>2</td>\n",
       "      <td>3</td>\n",
       "      <td>88.6</td>\n",
       "      <td>168.8</td>\n",
       "      <td>64.1</td>\n",
       "      <td>48.8</td>\n",
       "      <td>2548</td>\n",
       "      <td>130</td>\n",
       "      <td>3.47</td>\n",
       "      <td>2.68</td>\n",
       "      <td>9.0</td>\n",
       "      <td>111</td>\n",
       "      <td>5000</td>\n",
       "      <td>21</td>\n",
       "      <td>27</td>\n",
       "      <td>16500.0</td>\n",
       "    </tr>\n",
       "    <tr>\n",
       "      <th>2</th>\n",
       "      <td>3</td>\n",
       "      <td>1</td>\n",
       "      <td>94.5</td>\n",
       "      <td>171.2</td>\n",
       "      <td>65.5</td>\n",
       "      <td>52.4</td>\n",
       "      <td>2823</td>\n",
       "      <td>152</td>\n",
       "      <td>2.68</td>\n",
       "      <td>3.47</td>\n",
       "      <td>9.0</td>\n",
       "      <td>154</td>\n",
       "      <td>5000</td>\n",
       "      <td>19</td>\n",
       "      <td>26</td>\n",
       "      <td>16500.0</td>\n",
       "    </tr>\n",
       "    <tr>\n",
       "      <th>3</th>\n",
       "      <td>4</td>\n",
       "      <td>2</td>\n",
       "      <td>99.8</td>\n",
       "      <td>176.6</td>\n",
       "      <td>66.2</td>\n",
       "      <td>54.3</td>\n",
       "      <td>2337</td>\n",
       "      <td>109</td>\n",
       "      <td>3.19</td>\n",
       "      <td>3.40</td>\n",
       "      <td>10.0</td>\n",
       "      <td>102</td>\n",
       "      <td>5500</td>\n",
       "      <td>24</td>\n",
       "      <td>30</td>\n",
       "      <td>13950.0</td>\n",
       "    </tr>\n",
       "    <tr>\n",
       "      <th>4</th>\n",
       "      <td>5</td>\n",
       "      <td>2</td>\n",
       "      <td>99.4</td>\n",
       "      <td>176.6</td>\n",
       "      <td>66.4</td>\n",
       "      <td>54.3</td>\n",
       "      <td>2824</td>\n",
       "      <td>136</td>\n",
       "      <td>3.19</td>\n",
       "      <td>3.40</td>\n",
       "      <td>8.0</td>\n",
       "      <td>115</td>\n",
       "      <td>5500</td>\n",
       "      <td>18</td>\n",
       "      <td>22</td>\n",
       "      <td>17450.0</td>\n",
       "    </tr>\n",
       "    <tr>\n",
       "      <th>...</th>\n",
       "      <td>...</td>\n",
       "      <td>...</td>\n",
       "      <td>...</td>\n",
       "      <td>...</td>\n",
       "      <td>...</td>\n",
       "      <td>...</td>\n",
       "      <td>...</td>\n",
       "      <td>...</td>\n",
       "      <td>...</td>\n",
       "      <td>...</td>\n",
       "      <td>...</td>\n",
       "      <td>...</td>\n",
       "      <td>...</td>\n",
       "      <td>...</td>\n",
       "      <td>...</td>\n",
       "      <td>...</td>\n",
       "    </tr>\n",
       "    <tr>\n",
       "      <th>200</th>\n",
       "      <td>201</td>\n",
       "      <td>-1</td>\n",
       "      <td>109.1</td>\n",
       "      <td>188.8</td>\n",
       "      <td>68.9</td>\n",
       "      <td>55.5</td>\n",
       "      <td>2952</td>\n",
       "      <td>141</td>\n",
       "      <td>3.78</td>\n",
       "      <td>3.15</td>\n",
       "      <td>9.5</td>\n",
       "      <td>114</td>\n",
       "      <td>5400</td>\n",
       "      <td>23</td>\n",
       "      <td>28</td>\n",
       "      <td>16845.0</td>\n",
       "    </tr>\n",
       "    <tr>\n",
       "      <th>201</th>\n",
       "      <td>202</td>\n",
       "      <td>-1</td>\n",
       "      <td>109.1</td>\n",
       "      <td>188.8</td>\n",
       "      <td>68.8</td>\n",
       "      <td>55.5</td>\n",
       "      <td>3049</td>\n",
       "      <td>141</td>\n",
       "      <td>3.78</td>\n",
       "      <td>3.15</td>\n",
       "      <td>8.7</td>\n",
       "      <td>160</td>\n",
       "      <td>5300</td>\n",
       "      <td>19</td>\n",
       "      <td>25</td>\n",
       "      <td>19045.0</td>\n",
       "    </tr>\n",
       "    <tr>\n",
       "      <th>202</th>\n",
       "      <td>203</td>\n",
       "      <td>-1</td>\n",
       "      <td>109.1</td>\n",
       "      <td>188.8</td>\n",
       "      <td>68.9</td>\n",
       "      <td>55.5</td>\n",
       "      <td>3012</td>\n",
       "      <td>173</td>\n",
       "      <td>3.58</td>\n",
       "      <td>2.87</td>\n",
       "      <td>8.8</td>\n",
       "      <td>134</td>\n",
       "      <td>5500</td>\n",
       "      <td>18</td>\n",
       "      <td>23</td>\n",
       "      <td>21485.0</td>\n",
       "    </tr>\n",
       "    <tr>\n",
       "      <th>203</th>\n",
       "      <td>204</td>\n",
       "      <td>-1</td>\n",
       "      <td>109.1</td>\n",
       "      <td>188.8</td>\n",
       "      <td>68.9</td>\n",
       "      <td>55.5</td>\n",
       "      <td>3217</td>\n",
       "      <td>145</td>\n",
       "      <td>3.01</td>\n",
       "      <td>3.40</td>\n",
       "      <td>23.0</td>\n",
       "      <td>106</td>\n",
       "      <td>4800</td>\n",
       "      <td>26</td>\n",
       "      <td>27</td>\n",
       "      <td>22470.0</td>\n",
       "    </tr>\n",
       "    <tr>\n",
       "      <th>204</th>\n",
       "      <td>205</td>\n",
       "      <td>-1</td>\n",
       "      <td>109.1</td>\n",
       "      <td>188.8</td>\n",
       "      <td>68.9</td>\n",
       "      <td>55.5</td>\n",
       "      <td>3062</td>\n",
       "      <td>141</td>\n",
       "      <td>3.78</td>\n",
       "      <td>3.15</td>\n",
       "      <td>9.5</td>\n",
       "      <td>114</td>\n",
       "      <td>5400</td>\n",
       "      <td>19</td>\n",
       "      <td>25</td>\n",
       "      <td>22625.0</td>\n",
       "    </tr>\n",
       "  </tbody>\n",
       "</table>\n",
       "<p>205 rows × 16 columns</p>\n",
       "</div>"
      ],
      "text/plain": [
       "     car_ID  symboling  wheelbase  carlength  carwidth  carheight  curbweight  \\\n",
       "0         1          3       88.6      168.8      64.1       48.8        2548   \n",
       "1         2          3       88.6      168.8      64.1       48.8        2548   \n",
       "2         3          1       94.5      171.2      65.5       52.4        2823   \n",
       "3         4          2       99.8      176.6      66.2       54.3        2337   \n",
       "4         5          2       99.4      176.6      66.4       54.3        2824   \n",
       "..      ...        ...        ...        ...       ...        ...         ...   \n",
       "200     201         -1      109.1      188.8      68.9       55.5        2952   \n",
       "201     202         -1      109.1      188.8      68.8       55.5        3049   \n",
       "202     203         -1      109.1      188.8      68.9       55.5        3012   \n",
       "203     204         -1      109.1      188.8      68.9       55.5        3217   \n",
       "204     205         -1      109.1      188.8      68.9       55.5        3062   \n",
       "\n",
       "     enginesize  boreratio  stroke  compressionratio  horsepower  peakrpm  \\\n",
       "0           130       3.47    2.68               9.0         111     5000   \n",
       "1           130       3.47    2.68               9.0         111     5000   \n",
       "2           152       2.68    3.47               9.0         154     5000   \n",
       "3           109       3.19    3.40              10.0         102     5500   \n",
       "4           136       3.19    3.40               8.0         115     5500   \n",
       "..          ...        ...     ...               ...         ...      ...   \n",
       "200         141       3.78    3.15               9.5         114     5400   \n",
       "201         141       3.78    3.15               8.7         160     5300   \n",
       "202         173       3.58    2.87               8.8         134     5500   \n",
       "203         145       3.01    3.40              23.0         106     4800   \n",
       "204         141       3.78    3.15               9.5         114     5400   \n",
       "\n",
       "     citympg  highwaympg    price  \n",
       "0         21          27  13495.0  \n",
       "1         21          27  16500.0  \n",
       "2         19          26  16500.0  \n",
       "3         24          30  13950.0  \n",
       "4         18          22  17450.0  \n",
       "..       ...         ...      ...  \n",
       "200       23          28  16845.0  \n",
       "201       19          25  19045.0  \n",
       "202       18          23  21485.0  \n",
       "203       26          27  22470.0  \n",
       "204       19          25  22625.0  \n",
       "\n",
       "[205 rows x 16 columns]"
      ]
     },
     "execution_count": 25,
     "metadata": {},
     "output_type": "execute_result"
    }
   ],
   "source": [
    "data"
   ]
  },
  {
   "cell_type": "code",
   "execution_count": 34,
   "id": "187eeee1-2f0c-4514-8c9a-36060807e7be",
   "metadata": {
    "tags": []
   },
   "outputs": [],
   "source": [
    "x=data.iloc[:,1:-1].values\n",
    "y=data.iloc[:,-1].values"
   ]
  },
  {
   "cell_type": "code",
   "execution_count": 35,
   "id": "f82bc0d5-08cb-455e-820b-c0e08dc45542",
   "metadata": {
    "tags": []
   },
   "outputs": [
    {
     "data": {
      "text/plain": [
       "(205, 14)"
      ]
     },
     "execution_count": 35,
     "metadata": {},
     "output_type": "execute_result"
    }
   ],
   "source": [
    "x.shape"
   ]
  },
  {
   "cell_type": "code",
   "execution_count": 36,
   "id": "41640a4b-41b8-41d2-afb9-3e742ab65b4d",
   "metadata": {
    "tags": []
   },
   "outputs": [
    {
     "data": {
      "text/plain": [
       "(205,)"
      ]
     },
     "execution_count": 36,
     "metadata": {},
     "output_type": "execute_result"
    }
   ],
   "source": [
    "y.shape"
   ]
  },
  {
   "cell_type": "code",
   "execution_count": 31,
   "id": "0faff3b8-4f21-4993-ba8a-e35810767ebb",
   "metadata": {
    "tags": []
   },
   "outputs": [],
   "source": [
    "from sklearn.model_selection import train_test_split"
   ]
  },
  {
   "cell_type": "code",
   "execution_count": 37,
   "id": "7f9f3a76-682b-4305-84a7-751c31220e8f",
   "metadata": {
    "tags": []
   },
   "outputs": [],
   "source": [
    "x_train,x_test,y_train,y_test = train_test_split(x,y,train_size = 0.8,test_size = 0.2,random_state = 100)"
   ]
  },
  {
   "cell_type": "code",
   "execution_count": 38,
   "id": "324d094d-f22d-4445-b630-12335a40f638",
   "metadata": {
    "tags": []
   },
   "outputs": [
    {
     "data": {
      "text/plain": [
       "array([[ 2.000e+00,  9.980e+01,  1.766e+02, ...,  5.500e+03,  2.400e+01,\n",
       "         3.000e+01],\n",
       "       [ 0.000e+00,  9.570e+01,  1.663e+02, ...,  4.800e+03,  3.000e+01,\n",
       "         3.700e+01],\n",
       "       [ 3.000e+00,  9.630e+01,  1.730e+02, ...,  5.000e+03,  2.500e+01,\n",
       "         3.200e+01],\n",
       "       ...,\n",
       "       [-1.000e+00,  1.100e+02,  1.909e+02, ...,  4.350e+03,  2.200e+01,\n",
       "         2.500e+01],\n",
       "       [ 1.000e+00,  9.370e+01,  1.573e+02, ...,  5.500e+03,  3.100e+01,\n",
       "         3.800e+01],\n",
       "       [ 1.000e+00,  1.058e+02,  1.927e+02, ...,  5.500e+03,  1.700e+01,\n",
       "         2.000e+01]])"
      ]
     },
     "execution_count": 38,
     "metadata": {},
     "output_type": "execute_result"
    }
   ],
   "source": [
    "x_train"
   ]
  },
  {
   "cell_type": "code",
   "execution_count": 39,
   "id": "f951d436-ba19-48aa-943a-7af2563b6e11",
   "metadata": {
    "tags": []
   },
   "outputs": [
    {
     "data": {
      "text/plain": [
       "array([13950.   ,  7198.   ,  8499.   ,  5399.   ,  8949.   ,  7609.   ,\n",
       "        9279.   ,  7995.   ,  9495.   ,  6795.   ,  9639.   ,  8238.   ,\n",
       "        9995.   , 18920.   ,  7898.   ,  8921.   ,  8921.   , 12964.   ,\n",
       "        7775.   , 10295.   , 37028.   ,  7609.   , 22018.   ,  9538.   ,\n",
       "       16500.   , 18950.   ,  9980.   ,  7499.   , 11248.   , 15750.   ,\n",
       "        7999.   ,  6229.   , 18150.   , 13645.   ,  8916.5  ,  6918.   ,\n",
       "        6989.   , 34028.   ,  6338.   , 22625.   , 16430.   ,  6575.   ,\n",
       "       11199.   , 12629.   , 20970.   , 41315.   , 16558.   ,  7099.   ,\n",
       "        5499.   ,  8916.5  ,  8358.   , 17950.   , 11595.   , 13845.   ,\n",
       "        8013.   ,  6095.   ,  9988.   ,  8845.   ,  8058.   ,  7895.   ,\n",
       "       17710.   ,  7395.   ,  6692.   ,  5572.   , 35550.   , 17859.167,\n",
       "        7957.   ,  7295.   , 16900.   ,  5195.   , 10245.   , 11259.   ,\n",
       "        7463.   ,  6295.   , 12940.   , 10945.   ,  7775.   ,  6377.   ,\n",
       "       10345.   , 14399.   ,  8195.   ,  6529.   ,  5389.   ,  7957.   ,\n",
       "       15998.   , 17075.   ,  7799.   , 14489.   , 15985.   ,  7898.   ,\n",
       "       34184.   , 15250.   ,  7295.   ,  6785.   ,  9258.   ,  7975.   ,\n",
       "        7053.   , 31600.   ,  9895.   , 11694.   ,  5348.   , 13495.   ,\n",
       "        6669.   , 11549.   , 28248.   , 12290.   ,  6488.   ,  6479.   ,\n",
       "       18399.   , 21105.   , 35056.   , 36880.   ,  5151.   ,  9095.   ,\n",
       "       12440.   , 32250.   , 16695.   , 11845.   ,  8558.   , 10795.   ,\n",
       "       10198.   , 19699.   ,  6692.   , 16500.   ,  9959.   , 13295.   ,\n",
       "       10595.   , 36000.   , 15510.   , 21485.   ,  6649.   , 17450.   ,\n",
       "        9549.   ,  7126.   , 31400.5  ,  7788.   , 11850.   , 13200.   ,\n",
       "        8778.   ,  9295.   ,  8189.   ,  7349.   , 18620.   ,  9233.   ,\n",
       "       15645.   ,  8495.   , 11900.   ,  9960.   , 22470.   ,  7129.   ,\n",
       "       24565.   , 18344.   ,  6695.   ,  8249.   , 15690.   ,  7299.   ,\n",
       "        5118.   , 10898.   ,  7689.   ,  9279.   , 13499.   , 25552.   ,\n",
       "        6229.   , 23875.   ])"
      ]
     },
     "execution_count": 39,
     "metadata": {},
     "output_type": "execute_result"
    }
   ],
   "source": [
    "y_train"
   ]
  },
  {
   "cell_type": "code",
   "execution_count": 40,
   "id": "2a4212d3-c588-44e4-82e2-3771e8d55448",
   "metadata": {
    "tags": []
   },
   "outputs": [],
   "source": [
    "from sklearn.linear_model import LinearRegression"
   ]
  },
  {
   "cell_type": "code",
   "execution_count": 42,
   "id": "9b3e85d0-4cd4-4da0-9d9b-c9ffaaa6a72e",
   "metadata": {
    "tags": []
   },
   "outputs": [],
   "source": [
    "LR = LinearRegression()"
   ]
  },
  {
   "cell_type": "code",
   "execution_count": 50,
   "id": "e9c1d202-dcd5-4b46-8f3c-dc1259d18a2b",
   "metadata": {
    "tags": []
   },
   "outputs": [
    {
     "name": "stdout",
     "output_type": "stream",
     "text": [
      "0.8632404229751887\n"
     ]
    }
   ],
   "source": [
    "LR.fit(x_train,y_train)\n",
    "print(LR.score(x_test,y_test))"
   ]
  },
  {
   "cell_type": "code",
   "execution_count": 54,
   "id": "2d4f2748-4337-479f-a1d2-02350e69bb1d",
   "metadata": {
    "tags": []
   },
   "outputs": [
    {
     "data": {
      "text/plain": [
       "array([ 6345.51521043, 10444.16409554, 10116.30814663, 11778.38180243,\n",
       "        9381.5019242 , 10136.19388545, 16268.52536737, 18937.42321919,\n",
       "       15161.94719869, 23060.5629997 , 17626.04937298, 17585.76020857,\n",
       "       18335.49560768, 10470.45980788, 39044.52405616,  7815.16517026,\n",
       "        6584.50277513, 14523.57566783, 15763.62153262, 16101.6033964 ,\n",
       "       16877.71369056, 16692.27219361, 26532.77602706,  5713.99078284,\n",
       "       13548.95352988, 22121.75641053, 15761.35565731, 24185.72335841,\n",
       "       12595.6517244 , 11666.09754637,  7557.98273462, 26211.97538945,\n",
       "       18746.10896534, 19450.86431538, 15268.90770831, 11372.05726556,\n",
       "       19530.96706899, 13585.29066706,  6288.20872014,  8211.86266878,\n",
       "       37992.05168056])"
      ]
     },
     "execution_count": 54,
     "metadata": {},
     "output_type": "execute_result"
    }
   ],
   "source": [
    "y_pred = LR.predict(x_test)\n",
    "y_pred"
   ]
  },
  {
   "cell_type": "code",
   "execution_count": 57,
   "id": "4d7de546-d325-4e53-bfd0-fa81b681f273",
   "metadata": {
    "tags": []
   },
   "outputs": [],
   "source": [
    "from sklearn.metrics import r2_score\n",
    "from sklearn.metrics import mean_squared_error"
   ]
  },
  {
   "cell_type": "code",
   "execution_count": 83,
   "id": "3152f23b-1284-4a1e-a5ec-c28172da7759",
   "metadata": {
    "tags": []
   },
   "outputs": [
    {
     "data": {
      "text/plain": [
       "0.8632404229751887"
      ]
     },
     "execution_count": 83,
     "metadata": {},
     "output_type": "execute_result"
    }
   ],
   "source": [
    "r_squared = r2_score(y_test,y_pred)\n",
    "r_squared"
   ]
  },
  {
   "cell_type": "code",
   "execution_count": null,
   "id": "4244717e-41b6-4f49-ace8-87cf0981070c",
   "metadata": {
    "tags": []
   },
   "outputs": [
    {
     "ename": "NameError",
     "evalue": "name 'ypred_train' is not defined",
     "output_type": "error",
     "traceback": [
      "\u001b[1;31m---------------------------------------------------------------------------\u001b[0m",
      "\u001b[1;31mNameError\u001b[0m                                 Traceback (most recent call last)",
      "Cell \u001b[1;32mIn[86], line 1\u001b[0m\n\u001b[1;32m----> 1\u001b[0m r2_score(y_train,\u001b[43mypred_train\u001b[49m),r2_score(y_test,ypred_test)\n",
      "\u001b[1;31mNameError\u001b[0m: name 'ypred_train' is not defined"
     ]
    }
   ],
   "source": []
  },
  {
   "cell_type": "code",
   "execution_count": 84,
   "id": "f71a63b8-0a37-40cb-a7a6-49359bb00657",
   "metadata": {
    "tags": []
   },
   "outputs": [
    {
     "name": "stdout",
     "output_type": "stream",
     "text": [
      "0.7055659243475305\n"
     ]
    }
   ],
   "source": [
    "from sklearn.model_selection import KFold, cross_val_score\n",
    "kf = KFold(shuffle = True, random_state = 80)\n",
    "cross_scores = cross_val_score(LR, x_test, y_test, cv=kf)\n",
    "kf_test = np.sqrt(np.mean(np.abs(cross_scores)))\n",
    "print(kf_test)"
   ]
  },
  {
   "cell_type": "code",
   "execution_count": 82,
   "id": "f369afe3-c4e5-478b-9b2d-165c19957ebe",
   "metadata": {
    "tags": []
   },
   "outputs": [
    {
     "name": "stdout",
     "output_type": "stream",
     "text": [
      "0.7670901183457489\n"
     ]
    }
   ],
   "source": [
    "from sklearn.linear_model import Ridge\n",
    "ridge = Ridge(alpha = 1)\n",
    "ridge.fit(x_train, y_train)\n",
    "ridge.score(x_test, y_test)\n",
    "cross_scores2 = cross_val_score(ridge, x_test, y_test, cv = kf)\n",
    "reg_test = np.sqrt(np.mean(np.abs(cross_scores2)))\n",
    "print(reg_test)"
   ]
  },
  {
   "cell_type": "code",
   "execution_count": null,
   "id": "74237014-56bc-4d4e-a6c7-5b39b927ad4b",
   "metadata": {},
   "outputs": [],
   "source": []
  }
 ],
 "metadata": {
  "kernelspec": {
   "display_name": "Python 3 (ipykernel)",
   "language": "python",
   "name": "python3"
  },
  "language_info": {
   "codemirror_mode": {
    "name": "ipython",
    "version": 3
   },
   "file_extension": ".py",
   "mimetype": "text/x-python",
   "name": "python",
   "nbconvert_exporter": "python",
   "pygments_lexer": "ipython3",
   "version": "3.10.1"
  }
 },
 "nbformat": 4,
 "nbformat_minor": 5
}
