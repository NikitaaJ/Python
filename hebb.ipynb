{
 "cells": [
  {
   "cell_type": "code",
   "execution_count": 31,
   "id": "39d29908",
   "metadata": {},
   "outputs": [],
   "source": [
    "def hebb(samples):\n",
    "    w1,w2,b = 0,0,0\n",
    "    print(\"INPUT      TARGET      WEIGHT CHANGE     WEIGHTS\")\n",
    "    for x1,x2,y in samples:\n",
    "        w1 = w1+x1*y\n",
    "        w2 = w2+x2*y\n",
    "        b = b + y\n",
    "        print(x1,x2,\"       \",y,\"          \",x1 * y,x2 * y,y,\"      \",w1,w2,b)"
   ]
  },
  {
   "cell_type": "code",
   "execution_count": 28,
   "id": "49ae7b78",
   "metadata": {},
   "outputs": [],
   "source": [
    "AND_samples = {\n",
    "    'binary_input_binary_output' :[\n",
    "        [1,1,1],\n",
    "        [1,0,0],\n",
    "        [0,1,0],\n",
    "        [0,0,0]\n",
    "    ],\n",
    "    'binary_input_bipolar_output' :[\n",
    "        [1,1,1],\n",
    "        [1,0,-1],\n",
    "        [0,1,-1],\n",
    "        [0,0,-1]\n",
    "    ],\n",
    "    'bipolar_input_bipolar_output' :[\n",
    "        [1,1,1],\n",
    "        [1,-1,-1],\n",
    "        [-1,1,-1],\n",
    "        [-1,-1,-1]\n",
    "    ]\n",
    "}"
   ]
  },
  {
   "cell_type": "code",
   "execution_count": 29,
   "id": "2ade0c83",
   "metadata": {},
   "outputs": [],
   "source": [
    "OR_samples ={\n",
    "    'binary_input_binary_output' :[\n",
    "        [1,1,1],\n",
    "        [1,0,1],\n",
    "        [0,1,1],\n",
    "        [0,0,0]\n",
    "    ],\n",
    "    'binary_input_bipolar_output' :[\n",
    "        [1,1,1],\n",
    "        [1,0,1],\n",
    "        [0,1,1],\n",
    "        [0,0,-1]\n",
    "    ],\n",
    "    'bipolar_input_bipolar_output' :[\n",
    "        [1,1,1],\n",
    "        [1,-1,1],\n",
    "        [-1,1,1],\n",
    "        [-1,-1,-1]\n",
    "    ]  \n",
    "}"
   ]
  },
  {
   "cell_type": "code",
   "execution_count": 30,
   "id": "47b1f6aa",
   "metadata": {},
   "outputs": [
    {
     "name": "stdout",
     "output_type": "stream",
     "text": [
      "INPUT      TARGET      WEIGHT CHANGE     WEIGHTS\n",
      "1 1         1            1 1 1        1 1 1\n",
      "1 -1         -1            -1 1 -1        0 2 0\n",
      "-1 1         -1            1 -1 -1        1 1 -1\n",
      "-1 -1         -1            1 1 -1        2 2 -2\n",
      "None\n"
     ]
    }
   ],
   "source": [
    "print(hebb(AND_samples['bipolar_input_bipolar_output']))"
   ]
  },
  {
   "cell_type": "code",
   "execution_count": null,
   "id": "b002772f",
   "metadata": {},
   "outputs": [],
   "source": []
  }
 ],
 "metadata": {
  "kernelspec": {
   "display_name": "Python 3 (ipykernel)",
   "language": "python",
   "name": "python3"
  },
  "language_info": {
   "codemirror_mode": {
    "name": "ipython",
    "version": 3
   },
   "file_extension": ".py",
   "mimetype": "text/x-python",
   "name": "python",
   "nbconvert_exporter": "python",
   "pygments_lexer": "ipython3",
   "version": "3.10.1"
  }
 },
 "nbformat": 4,
 "nbformat_minor": 5
}
